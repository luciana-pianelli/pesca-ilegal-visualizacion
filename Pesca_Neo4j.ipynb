{
 "cells": [
  {
   "cell_type": "code",
   "execution_count": null,
   "id": "819d79c245d2f395",
   "metadata": {},
   "outputs": [],
   "source": [
    "from neo4j import GraphDatabase\n",
    "import nxneo4j as nxn\n",
    "import json\n",
    "import re\n",
    "import networkx as nx\n",
    "from networkx.readwrite import json_graph\n",
    "from datetime import datetime\n",
    "import matplotlib.pyplot as plt\n",
    "import plotly.graph_objects as go\n",
    "import pandas as pd\n",
    "import ipywidgets as widgets\n",
    "import holoviews as hv\n",
    "hv.extension('bokeh')\n",
    "from holoviews import opts\n",
    "import numpy as np\n",
    "import seaborn as sns"
   ]
  },
  {
   "cell_type": "code",
   "execution_count": null,
   "id": "226b246f7f700df1",
   "metadata": {},
   "outputs": [],
   "source": [
    "uri = \"\"\n",
    "user = \"neo4j\"\n",
    "password = \"\"\n",
    "driver = GraphDatabase.driver(uri, auth=(user, password))"
   ]
  },
  {
   "cell_type": "code",
   "execution_count": null,
   "id": "5554e7910f517539",
   "metadata": {},
   "outputs": [],
   "source": [
    "G = nxn.Graph(driver) # or nx.DiGraph(driver) for directed graphs"
   ]
  },
  {
   "cell_type": "code",
   "execution_count": null,
   "id": "54e60c07d78d7241",
   "metadata": {},
   "outputs": [],
   "source": [
    "with open(\"./MC3_schema.json\") as f:\n",
    "    schema = json.load(f)\n",
    "\n",
    "with open(\"./MC3_graph.json\") as g:\n",
    "    graph_data = json.load(g)\n",
    "\n",
    "G_nx = json_graph.node_link_graph(graph_data)"
   ]
  },
  {
   "cell_type": "code",
   "execution_count": null,
   "id": "d5e2383ca4c30d9b",
   "metadata": {},
   "outputs": [],
   "source": [
    "def format_dict(d):\n",
    "    parts = []\n",
    "    for k, v in d.items():\n",
    "        key_str = str(k)\n",
    "        if v is None:\n",
    "            v = \" \"\n",
    "        if isinstance(v, str):\n",
    "            v = v.replace(\"'\", \"\")\n",
    "            val_str = f\"'{v}'\"\n",
    "        elif isinstance(v, datetime):\n",
    "            val_str = f\"'{v.isoformat()}'\"  # format datetime as ISO string\n",
    "        else:\n",
    "            val_str = str(v)\n",
    "        parts.append(f\"{key_str}: {val_str}\")\n",
    "    return \"{\" + \", \".join(parts) + \"}\""
   ]
  },
  {
   "cell_type": "markdown",
   "id": "a5e9ee09b2ab7ae3",
   "metadata": {},
   "source": [
    "### Solo ejecutar una vez. Las subsiguientes veces no será necesario"
   ]
  },
  {
   "cell_type": "code",
   "execution_count": null,
   "id": "e591d252b4d78269",
   "metadata": {},
   "outputs": [],
   "source": [
    "#G.delete_all()"
   ]
  },
  {
   "cell_type": "code",
   "execution_count": null,
   "id": "8026d167fdfcb3da",
   "metadata": {},
   "outputs": [],
   "source": [
    "for node_id, attrs in G_nx.nodes(data=True):\n",
    "    node_id = re.sub(r'[^a-zA-Z0-9]', '_', node_id)\n",
    "    sub_type = attrs.get(\"sub_type\")\n",
    "    label = re.sub(r'[^a-zA-Z0-9]', '_', attrs.get(\"label\"))\n",
    "    attrs[\"id\"] = node_id\n",
    "    attrs.pop('sub_type', None)\n",
    "    attrs.pop('type', None)\n",
    "    formatted = format_dict(attrs)\n",
    "    query = \"CREATE (n:{} {})\".format(sub_type, formatted)\n",
    "    try:\n",
    "        driver.execute_query(query)\n",
    "    except Exception as e:\n",
    "        print(query)"
   ]
  },
  {
   "cell_type": "code",
   "execution_count": null,
   "id": "30e5061cb39923c5",
   "metadata": {},
   "outputs": [],
   "source": [
    "for source, target, attrs in G_nx.edges(data=True):\n",
    "    source = re.sub(r'[^a-zA-Z0-9]', '_', source)\n",
    "    target = re.sub(r'[^a-zA-Z0-9]', '_', target)\n",
    "    if attrs.get(\"type\") is None:\n",
    "        relationship_type = \"CONNECTED\"\n",
    "    else:\n",
    "        relationship_type = attrs.get(\"type\").upper()\n",
    "\n",
    "    formatted_attrs = format_dict(attrs)\n",
    "    query = f\"\"\"\n",
    "        MATCH (a {{id: '{source}'}})\n",
    "        MATCH (b {{id: '{target}'}})\n",
    "        CREATE (a)-[r:{relationship_type} {formatted_attrs}]->(b)\n",
    "    \"\"\"\n",
    "    try:\n",
    "        driver.execute_query(query)\n",
    "    except Exception as e:\n",
    "        print(query)"
   ]
  },
  {
   "cell_type": "markdown",
   "id": "a4637e1d1fd4f479",
   "metadata": {},
   "source": [
    "#### Prueba"
   ]
  },
  {
   "cell_type": "code",
   "execution_count": null,
   "id": "36d722943046f28c",
   "metadata": {},
   "outputs": [],
   "source": [
    "data=driver.execute_query(\"\"\"\n",
    "                     MATCH (n1)-[r1:SENT]->(n2), \n",
    "                     (n2)-[r2:RECEIVED]->(n3)\n",
    "                     WHERE n1.name='Mako'\n",
    "                    RETURN n1, n2, n3, r1, r2;\n",
    "                    \"\"\")"
   ]
  },
  {
   "cell_type": "code",
   "execution_count": null,
   "id": "d06c6c2bc8f252df",
   "metadata": {},
   "outputs": [],
   "source": [
    "records = []\n",
    "for record in data.records:\n",
    "    n1 = record.data()[\"n1\"]\n",
    "    n2 = record.data()[\"n2\"]\n",
    "    n3 = record.data()[\"n3\"]\n",
    "    r1 = record.data()[\"r1\"]\n",
    "    r2 = record.data()[\"r2\"]\n",
    "\n",
    "    records.append({\n",
    "        'sender': n1['name'],\n",
    "        'message_id': n2['id'],\n",
    "        'content': n2['content'],\n",
    "        'timestamp': n2['timestamp'],\n",
    "        'receiver': n3['name'] if 'name' in n3 else n3['label'],\n",
    "    })\n",
    "\n",
    "df_Mako = pd.DataFrame(records)\n",
    "df_Mako['timestamp'] = pd.to_datetime(df_Mako['timestamp'])  # Asegura que sea datetime"
   ]
  },
  {
   "cell_type": "code",
   "execution_count": null,
   "id": "cd40a0916201f651",
   "metadata": {},
   "outputs": [],
   "source": [
    "df_Mako"
   ]
  },
  {
   "cell_type": "code",
   "execution_count": null,
   "id": "7a1977db7d829ecc",
   "metadata": {},
   "outputs": [],
   "source": [
    "df_Mako['date'] = df_Mako['timestamp'].dt.date\n",
    "\n",
    "hv_plot = hv.Curve(df_Mako.groupby('date').size().reset_index(name='count')).opts(\n",
    "    xlabel='Fecha', ylabel='N° de Mensajes',\n",
    "    title='Mensajes enviados por día',\n",
    "    width=600, height=300, color='navy'\n",
    ")\n",
    "hv_plot"
   ]
  },
  {
   "cell_type": "code",
   "execution_count": null,
   "id": "15fa6156e8a6095c",
   "metadata": {},
   "outputs": [],
   "source": [
    "hv_plot = hv.Bars(df_Mako['receiver'].value_counts().reset_index().rename(columns={'index':'Receptor', 'receiver':'Cantidad'})).opts(\n",
    "    xlabel='Receptor', ylabel='Cantidad de mensajes',\n",
    "    title='Destinatarios más frecuentes',\n",
    "    width=600, height=300\n",
    ")\n",
    "hv_plot\n"
   ]
  },
  {
   "cell_type": "code",
   "execution_count": null,
   "id": "8c7b71edd67db493",
   "metadata": {},
   "outputs": [],
   "source": [
    "df_Mako['date'] = df_Mako['timestamp'].dt.date\n",
    "\n",
    "hv_plot = hv.Curve(df_Mako.groupby('date').size().reset_index(name='count')).opts(\n",
    "    xlabel='Fecha', ylabel='N° de Mensajes',\n",
    "    title='Mensajes enviados por día',\n",
    "    width=600, height=300, color='navy'\n",
    ")\n",
    "hv_plot\n"
   ]
  },
  {
   "cell_type": "code",
   "execution_count": null,
   "id": "5c6e5ca418d3f9d2",
   "metadata": {},
   "outputs": [],
   "source": [
    "Gmako = nx.DiGraph()\n",
    "for i, row in df_Mako.iterrows():\n",
    "    Gmako.add_edge(row['sender'], row['receiver'], label=row['message_id'])\n",
    "\n",
    "hv_graph = hv.Graph.from_networkx(Gmako, nx.spring_layout).opts(\n",
    "    node_color='lightblue',\n",
    "    node_size=15,\n",
    "    edge_color='gray',\n",
    "    width=600,\n",
    "    height=400,\n",
    "    title=\"Red de comunicaciones desde Mako\"\n",
    ")\n",
    "hv_graph"
   ]
  },
  {
   "cell_type": "code",
   "execution_count": null,
   "id": "adecb68fe8ee2da4",
   "metadata": {},
   "outputs": [],
   "source": [
    "df_Mako['hour'] = df_Mako['timestamp'].dt.hour\n",
    "hv_hist = hv.Histogram(np.histogram(df_Mako['hour'], bins=24)).opts(\n",
    "    xlabel='Hora del día', ylabel='Mensajes',\n",
    "    title='Distribución horaria de mensajes',\n",
    "    width=600, height=300\n",
    ")\n",
    "hv_hist\n"
   ]
  },
  {
   "cell_type": "markdown",
   "id": "5eda7a0abc2fab24",
   "metadata": {},
   "source": [
    "# Pregunta 1 - Variación temporal de las comunicaciones."
   ]
  },
  {
   "cell_type": "markdown",
   "id": "6fb2c3a9dcd760c1",
   "metadata": {},
   "source": [
    "####   Clepper found that messages frequently came in at around the same time each day.\n",
    "\n",
    "a.      Develop a graph-based visual analytics approach to identify any daily temporal patterns in communications.\n",
    "\n",
    "b.      How do these patterns shift over the two weeks of observations?\n",
    "\n",
    "c.       Focus on a specific entity and use this information to determine who has influence over them."
   ]
  },
  {
   "cell_type": "code",
   "execution_count": null,
   "id": "208600c7fef69824",
   "metadata": {},
   "outputs": [],
   "source": [
    "data_comm=driver.execute_query(\"\"\"\n",
    "                     MATCH (n1)-[r1:SENT]->(n2), \n",
    "                     (n2)-[r2:RECEIVED]->(n3)\n",
    "                    RETURN n1, n2, n3, r1, r2;\n",
    "                    \"\"\")"
   ]
  },
  {
   "cell_type": "code",
   "execution_count": null,
   "id": "4c55e3312888ead3",
   "metadata": {},
   "outputs": [],
   "source": [
    "#data_comm"
   ]
  },
  {
   "cell_type": "code",
   "execution_count": null,
   "id": "a154703503367782",
   "metadata": {},
   "outputs": [],
   "source": [
    "records_comm = []\n",
    "for record in data_comm.records:\n",
    "    n1 = record.data()[\"n1\"]\n",
    "    n2 = record.data()[\"n2\"]\n",
    "    n3 = record.data()[\"n3\"]\n",
    "    r1 = record.data()[\"r1\"]\n",
    "    r2 = record.data()[\"r2\"]\n",
    "\n",
    "    records_comm.append({\n",
    "        'sender': n1['name'],\n",
    "        'message_id': n2['id'],\n",
    "        'content': n2['content'],\n",
    "        'timestamp': n2['timestamp'],\n",
    "        'receiver': n3['name'] if 'name' in n3 else n3['label'],\n",
    "    })"
   ]
  },
  {
   "cell_type": "code",
   "execution_count": null,
   "id": "e45037c69a23ba96",
   "metadata": {},
   "outputs": [],
   "source": [
    "df_comm = pd.DataFrame(records_comm)\n",
    "df_comm['timestamp'] = pd.to_datetime(df_comm['timestamp'])  # Asegura que sea datetime"
   ]
  },
  {
   "cell_type": "code",
   "execution_count": null,
   "id": "86fbb29853ebee81",
   "metadata": {},
   "outputs": [],
   "source": [
    "df_chord = df_comm.groupby(['sender', 'receiver']).size().reset_index(name='weight')\n",
    "df_chord.columns = ['source', 'target', 'weight']\n"
   ]
  },
  {
   "cell_type": "code",
   "execution_count": null,
   "id": "5bae5b8377b0287c",
   "metadata": {},
   "outputs": [],
   "source": [
    "chord = hv.Chord(df_chord).opts(\n",
    "    width=600, height=600,\n",
    "    cmap='Category20', node_color='index',\n",
    "    edge_cmap='Viridis', edge_color='weight',\n",
    "    labels='name'\n",
    ")\n",
    "chord"
   ]
  },
  {
   "cell_type": "code",
   "execution_count": null,
   "id": "55104890b407d776",
   "metadata": {},
   "outputs": [],
   "source": [
    "df_comm['day'] = df_comm['timestamp'].dt.date\n",
    "df_comm['hour'] = df_comm['timestamp'].dt.hour\n"
   ]
  },
  {
   "cell_type": "code",
   "execution_count": null,
   "id": "3690ae26bf8a4832",
   "metadata": {},
   "outputs": [],
   "source": [
    "grouped = df_comm.groupby(['sender', 'day', 'hour']).size().reset_index(name='count')\n"
   ]
  },
  {
   "cell_type": "code",
   "execution_count": null,
   "id": "8d6ee7925cfc82a8",
   "metadata": {},
   "outputs": [],
   "source": [
    "grouped['datetime'] = pd.to_datetime(grouped['day'].astype(str)) + pd.to_timedelta(grouped['hour'], unit='h')\n"
   ]
  },
  {
   "cell_type": "code",
   "execution_count": null,
   "id": "2c32555a2e02d1f7",
   "metadata": {},
   "outputs": [],
   "source": [
    "heatmap = hv.HeatMap(grouped, kdims=['datetime', 'sender'], vdims='count').opts(\n",
    "    width=900, height=600, cmap='Viridis', tools=['hover'],\n",
    "    xrotation=45, xlabel='Fecha-Hora', ylabel='Sender'\n",
    ")\n",
    "heatmap"
   ]
  },
  {
   "cell_type": "code",
   "execution_count": null,
   "id": "d5f4d55104d0eaea",
   "metadata": {},
   "outputs": [],
   "source": [
    "# Elegimos un sender (por ejemplo, el primero en la lista)\n",
    "sender_to_plot = grouped['sender'].unique()[0]\n",
    "\n",
    "filtered = grouped[grouped['sender'] == sender_to_plot]\n",
    "\n",
    "# Creamos tabla con días como filas y horas como columnas\n",
    "pivot = filtered.pivot_table(index='day', columns='hour', values='count', fill_value=0)\n",
    "\n",
    "plt.figure(figsize=(14, 6))\n",
    "sns.heatmap(pivot, cmap='viridis', linewidths=0.5)\n",
    "plt.title(f'Frecuencia de mensajes por hora por día – {sender_to_plot}')\n",
    "plt.xlabel('Hora del día')\n",
    "plt.ylabel('Fecha')\n",
    "plt.tight_layout()\n",
    "plt.show()\n"
   ]
  },
  {
   "cell_type": "code",
   "execution_count": null,
   "id": "15dbd3a220a20af3",
   "metadata": {},
   "outputs": [],
   "source": [
    "df_stream = df_comm.groupby(['day', 'sender']).size().reset_index(name='count')"
   ]
  },
  {
   "cell_type": "code",
   "execution_count": null,
   "id": "ba7928898c6ad449",
   "metadata": {},
   "outputs": [],
   "source": [
    "df_stream_2 = df_comm.groupby(['day', 'hour','sender']).size().reset_index(name='count')"
   ]
  },
  {
   "cell_type": "code",
   "execution_count": null,
   "id": "e78ae56f479f17a1",
   "metadata": {},
   "outputs": [],
   "source": [
    "df_comm"
   ]
  },
  {
   "cell_type": "code",
   "execution_count": null,
   "id": "a4d3dff6280bf1f",
   "metadata": {},
   "outputs": [],
   "source": [
    "timeframe = df_comm.groupby(pd.Grouper(key='timestamp', freq='1h')).count() #Group by hour and sum values\n",
    "#[\"timestamp\"].dt.time\n",
    "timeframe"
   ]
  },
  {
   "cell_type": "code",
   "execution_count": null,
   "id": "6263d8e9a498c25f",
   "metadata": {},
   "outputs": [],
   "source": [
    "timeframe_total = df_comm.groupby(pd.Grouper(key='timestamp', freq='1h')).size().reset_index(name='total_msgs')\n",
    "\n",
    "# Crear gráfico de líneas\n",
    "fig = go.Figure()\n",
    "fig.add_trace(go.Scatter(\n",
    "    x=timeframe_total['timestamp'],\n",
    "    y=timeframe_total['total_msgs'],\n",
    "    mode='lines',\n",
    "    name='Mensajes totales',\n",
    "    line=dict(color='blue'),\n",
    "    hovertemplate='Hora: %{x}<br>Mensajes: %{y}<extra></extra>'\n",
    "))\n",
    "\n",
    "fig.update_layout(\n",
    "    title='Cantidad total de mensajes por hora',\n",
    "    xaxis_title='Hora',\n",
    "    yaxis_title='Mensajes',\n",
    "    height=500,\n",
    "    width=1000\n",
    ")\n",
    "\n",
    "fig.show()"
   ]
  },
  {
   "cell_type": "code",
   "execution_count": null,
   "id": "684c41b78d531256",
   "metadata": {},
   "outputs": [],
   "source": [
    "pivot_df = df_stream.pivot(index='day', columns='sender', values='count').fillna(0)\n",
    "\n",
    "# Ordenamos por volumen total\n",
    "sender_totals = pivot_df.sum().sort_values(ascending=False)\n",
    "\n",
    "# Widget para elegir cuántos senders mostrar\n",
    "num_senders_widget = widgets.IntSlider(\n",
    "    value=10,\n",
    "    min=2,\n",
    "    max=min(30, len(sender_totals)),\n",
    "    step=2,\n",
    "    description='Top Senders:',\n",
    "    continuous_update=False\n",
    ")\n",
    "\n",
    "# Función para actualizar el gráfico\n",
    "def update_plot(num_senders):\n",
    "    top_senders = sender_totals.head(num_senders).index\n",
    "    data = []\n",
    "    for sender in top_senders:\n",
    "        data.append(go.Scatter(\n",
    "            x=pivot_df.index,\n",
    "            y=pivot_df[sender],\n",
    "            mode='lines',\n",
    "            stackgroup='one',\n",
    "            name=sender,\n",
    "            hovertemplate=f'Sender: {sender}<br>Día: %{{x}}<br>Mensajes: %{{y}}<extra></extra>'\n",
    "        ))\n",
    "\n",
    "    fig = go.Figure(data=data)\n",
    "    fig.update_layout(\n",
    "        title='Streamgraph de interacciones por día (Top Senders)',\n",
    "        xaxis_title='Día',\n",
    "        yaxis_title='Cantidad de mensajes',\n",
    "        height=500,\n",
    "        width=1000,\n",
    "        legend_title_text='Sender',\n",
    "    )\n",
    "    fig.show()\n",
    "\n",
    "# Conectar el widget\n",
    "widgets.interact(update_plot, num_senders=num_senders_widget)\n"
   ]
  },
  {
   "cell_type": "code",
   "execution_count": null,
   "id": "d728a7838078bf34",
   "metadata": {},
   "outputs": [],
   "source": [
    "df_stream"
   ]
  },
  {
   "cell_type": "code",
   "execution_count": null,
   "id": "c3313d0bdbb2e82c",
   "metadata": {},
   "outputs": [],
   "source": [
    "num_senders_widget = widgets.IntSlider(\n",
    "    value=10,\n",
    "    min=2,\n",
    "    max=30,\n",
    "    step=2,\n",
    "    description='Top Senders:',\n",
    "    continuous_update=False\n",
    ")\n",
    "\n",
    "# Widget: hora del día\n",
    "hour_widget = widgets.IntSlider(\n",
    "    value=8,\n",
    "    min=0,\n",
    "    max=23,\n",
    "    step=1,\n",
    "    description='Hora:',\n",
    "    continuous_update=False\n",
    ")\n",
    "\n",
    "# Función para actualizar el gráfico\n",
    "def update_plot(num_senders, hour):\n",
    "    # Filtramos por la hora seleccionada\n",
    "    df_hour = df_stream_2[df_stream_2['hour'] == hour]\n",
    "\n",
    "    # Pivot y top senders\n",
    "    pivot_df = df_hour.pivot(index='day', columns='sender', values='count').fillna(0)\n",
    "    sender_totals = pivot_df.sum().sort_values(ascending=False)\n",
    "    top_senders = sender_totals.head(num_senders).index\n",
    "\n",
    "    # Construcción del gráfico\n",
    "    data = []\n",
    "    for sender in top_senders:\n",
    "        data.append(go.Scatter(\n",
    "            x=pivot_df.index,\n",
    "            y=pivot_df[sender],\n",
    "            mode='lines',\n",
    "            stackgroup='one',\n",
    "            name=sender,\n",
    "            hovertemplate=f'Sender: {sender}<br>Día: %{{x}}<br>Mensajes: %{{y}}<extra></extra>'\n",
    "        ))\n",
    "\n",
    "    fig = go.Figure(data=data)\n",
    "    fig.update_layout(\n",
    "        title=f'Streamgraph de interacciones por día — {hour}:00 hs (Top {num_senders} Senders)',\n",
    "        xaxis_title='Día',\n",
    "        yaxis_title='Cantidad de mensajes',\n",
    "        height=500,\n",
    "        width=1000,\n",
    "        legend_title_text='Sender',\n",
    "    )\n",
    "    fig.show()\n",
    "\n",
    "# Mostrar los widgets y conectar\n",
    "widgets.interact(update_plot, num_senders=num_senders_widget, hour=hour_widget)"
   ]
  },
  {
   "cell_type": "code",
   "execution_count": null,
   "id": "ead0f097316814ee",
   "metadata": {},
   "outputs": [],
   "source": [
    "# Asegurarse de que 'timestamp' esté en formato datetime\n",
    "df_comm['timestamp'] = pd.to_datetime(df_comm['timestamp'])\n",
    "\n",
    "# Agrupar por hora y contar mensajes por sender y receiver\n",
    "grouped_sender = df_comm.groupby([\n",
    "    pd.Grouper(key='timestamp', freq='1h'), 'sender'\n",
    "]).size().reset_index(name='count_sender')\n",
    "\n",
    "grouped_receiver = df_comm.groupby([\n",
    "    pd.Grouper(key='timestamp', freq='1h'), 'receiver'\n",
    "]).size().reset_index(name='count_receiver')\n",
    "\n",
    "# Pivot para formato ancho (una columna por entidad)\n",
    "pivot_sender = grouped_sender.pivot(index='timestamp', columns='sender', values='count_sender').fillna(0)\n",
    "pivot_receiver = grouped_receiver.pivot(index='timestamp', columns='receiver', values='count_receiver').fillna(0)\n",
    "\n",
    "# Widgets\n",
    "max_senders = len(pivot_sender.columns)\n",
    "max_receivers = len(pivot_receiver.columns)\n",
    "max_entities = max(max_senders, max_receivers)\n",
    "\n",
    "num_entities_slider = widgets.IntSlider(\n",
    "    value=10,\n",
    "    min=1,\n",
    "    max=max_entities,\n",
    "    step=1,\n",
    "    description='Top entidades:',\n",
    "    continuous_update=False\n",
    ")\n",
    "\n",
    "sender_receiver_toggle = widgets.ToggleButtons(\n",
    "    options=['Sender', 'Receiver'],\n",
    "    description='Ver:',\n",
    "    disabled=False,\n",
    "    button_style=''\n",
    ")\n",
    "\n",
    "# Función para actualizar el gráfico\n",
    "def update_plot(view_option, num_entities):\n",
    "    if view_option == 'Sender':\n",
    "        data_df = pivot_sender\n",
    "        top_entities = data_df.sum().sort_values(ascending=False).head(num_entities).index\n",
    "        title = \"Mensajes por hora (Sender)\"\n",
    "    else:\n",
    "        data_df = pivot_receiver\n",
    "        top_entities = data_df.sum().sort_values(ascending=False).head(num_entities).index\n",
    "        title = \"Mensajes por hora (Receiver)\"\n",
    "\n",
    "    fig = go.Figure()\n",
    "    for entity in top_entities:\n",
    "        fig.add_trace(go.Scatter(\n",
    "            x=data_df.index,\n",
    "            y=data_df[entity],\n",
    "            mode='lines',\n",
    "            name=entity,\n",
    "            hovertemplate=f'{entity}<br>Hora: %{{x}}<br>Mensajes: %{{y}}<extra></extra>'\n",
    "        ))\n",
    "\n",
    "    fig.update_layout(\n",
    "        title=title,\n",
    "        xaxis_title=\"Hora\",\n",
    "        yaxis_title=\"Cantidad de mensajes\",\n",
    "        height=500,\n",
    "        width=1000,\n",
    "        legend_title_text=\"Entidad\"\n",
    "    )\n",
    "    fig.show()\n",
    "\n",
    "# Conectar widgets\n",
    "widgets.interact(update_plot,\n",
    "                 view_option=sender_receiver_toggle,\n",
    "                 num_entities=num_entities_slider)\n"
   ]
  },
  {
   "cell_type": "markdown",
   "id": "25e6b38010baa90",
   "metadata": {},
   "source": [
    "\n",
    "\n",
    "# Pregunta 3. Pseudónimos"
   ]
  },
  {
   "cell_type": "markdown",
   "id": "d8dd838e2cddb247",
   "metadata": {},
   "source": [
    "3 – It was noted by Clepper's intern that some people and vessels are using pseudonyms to communicate.\n",
    "\n",
    "a.      Expanding upon your prior visual analytics, determine who is using pseudonyms to communicate, and what these pseudonyms are.\n",
    "\n",
    "·         Some that Clepper has already identified include: “Boss”, and “The Lookout”, but there appear to be many more.\n",
    "\n",
    "·         To complicate the matter, pseudonyms may be used by multiple people or vessels.\n",
    "\n",
    "b.      Describe how your visualizations make it easier for Clepper to identify common entities in the knowledge graph.\n",
    "\n",
    "c.       How does your understanding of activities change given your understanding of pseudonyms?"
   ]
  },
  {
   "cell_type": "code",
   "execution_count": null,
   "id": "ceba0a7fa179bc22",
   "metadata": {},
   "outputs": [],
   "source": [
    "# Contar cuántas veces cada entidad fue sender y receiver\n",
    "sender_counts = df_comm['sender'].value_counts().rename('sent_count')\n",
    "receiver_counts = df_comm['receiver'].value_counts().rename('received_count')\n",
    "\n",
    "# Combinar en un solo DataFrame\n",
    "activity_df = pd.concat([sender_counts, receiver_counts], axis=1).fillna(0).astype(int)\n",
    "\n",
    "\n",
    "activity_df['diff'] = (activity_df['sent_count'] - activity_df['received_count']).abs()\n",
    "activity_df['total'] = activity_df['sent_count'] + activity_df['received_count']\n",
    "activity_df = activity_df.sort_values(by='total', ascending=False)"
   ]
  },
  {
   "cell_type": "code",
   "execution_count": null,
   "id": "aab94bd252acebd6",
   "metadata": {},
   "outputs": [],
   "source": [
    "activity_df"
   ]
  },
  {
   "cell_type": "code",
   "execution_count": null,
   "id": "6a1b4bd5950b7fc5",
   "metadata": {},
   "outputs": [],
   "source": [
    "activity_df\n",
    "\n",
    "# Eje x y posiciones\n",
    "x = np.arange(len(activity_df))\n",
    "width = 0.3\n",
    "\n",
    "# Crear gráfico\n",
    "fig, ax = plt.subplots(figsize=(18, 6))\n",
    "\n",
    "bars1 = ax.bar(x - width/2, activity_df['sent_count'], width, label='Enviados')\n",
    "bars2 = ax.bar(x + width/2, activity_df['received_count'], width, label='Recibidos')\n",
    "\n",
    "# Nombres reales de las entidades como etiquetas\n",
    "ax.set_xticks(x)\n",
    "ax.set_xticklabels(activity_df.index, rotation=70, ha='right')\n",
    "\n",
    "# Estética\n",
    "ax.set_xlabel('Entidad')\n",
    "ax.set_ylabel('Cantidad de mensajes')\n",
    "ax.set_title('Mensajes enviados y recibidos por entidad')\n",
    "ax.legend()\n",
    "ax.grid(axis='y', linestyle='--', alpha=0.6)\n",
    "\n",
    "plt.tight_layout()\n",
    "plt.show()\n",
    "#"
   ]
  },
  {
   "cell_type": "code",
   "execution_count": null,
   "id": "8b45e3d525e9ce18",
   "metadata": {},
   "outputs": [],
   "source": []
  }
 ],
 "metadata": {
  "kernelspec": {
   "display_name": "Python 3",
   "language": "python",
   "name": "python3"
  },
  "language_info": {
   "codemirror_mode": {
    "name": "ipython",
    "version": 2
   },
   "file_extension": ".py",
   "mimetype": "text/x-python",
   "name": "python",
   "nbconvert_exporter": "python",
   "pygments_lexer": "ipython2"
  }
 },
 "nbformat": 4,
 "nbformat_minor": 5
}
